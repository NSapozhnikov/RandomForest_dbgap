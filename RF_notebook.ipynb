{
 "cells": [
  {
   "cell_type": "code",
   "execution_count": 1,
   "id": "7e17080d",
   "metadata": {},
   "outputs": [],
   "source": [
    "import pandas as pd\n",
    "import numpy as np\n",
    "from sklearn.ensemble import RandomForestClassifier\n",
    "from sklearn.metrics import accuracy_score, confusion_matrix, precision_score, recall_score, roc_auc_score, roc_curve, f1_score\n",
    "from sklearn import tree\n",
    "from sklearn.preprocessing import OneHotEncoder\n",
    "from sklearn.model_selection import train_test_split\n",
    "import matplotlib.pyplot as plt\n",
    "from collections import Counter\n",
    "from sklearn.tree import export_graphviz\n",
    "import imblearn as imb\n",
    "from sklearn.model_selection import RepeatedStratifiedKFold, cross_validate\n",
    "from imblearn.pipeline import Pipeline\n",
    "from imblearn.under_sampling import NearMiss\n",
    "from joblib import Memory\n",
    "import shap\n"
   ]
  },
  {
   "cell_type": "code",
   "execution_count": 26,
   "id": "b7419d11",
   "metadata": {},
   "outputs": [],
   "source": [
    "### Seed\n",
    "seed = 200\n",
    "near_miss_strat = 3\n",
    "knn_ = 3"
   ]
  },
  {
   "cell_type": "code",
   "execution_count": 3,
   "id": "a19dfc59",
   "metadata": {},
   "outputs": [
    {
     "name": "stdout",
     "output_type": "stream",
     "text": [
      "Original DF: \n",
      "             IID  PHENOTYPE  rs3094315_G  rs3131972_A  rs3131969_A  \\\n",
      "0      100000013          2            1            1            1   \n",
      "1      100000016          2            1            1            1   \n",
      "2      100000023          2            1            1            0   \n",
      "3      100000140          2            0            0            0   \n",
      "4      100000147          2            1            1            1   \n",
      "...          ...        ...          ...          ...          ...   \n",
      "5575  2909813962          2            0            0            0   \n",
      "5576  2909884763          2            0            0            0   \n",
      "5577  2909921261          2            1            1            0   \n",
      "5578  2909922663          2            0            0            0   \n",
      "5579  2909962868          2            0            0            0   \n",
      "\n",
      "      rs1048488_G  rs12562034_A  rs12124819_G  rs2980300_A  rs11240777_A  ...  \\\n",
      "0               1             0             0            1             1  ...   \n",
      "1               1             0             0            1             1  ...   \n",
      "2               1             0             1            0             0  ...   \n",
      "3               0             0             0            0             0  ...   \n",
      "4               1             0             1            1             1  ...   \n",
      "...           ...           ...           ...          ...           ...  ...   \n",
      "5575            0             0             0            1             1  ...   \n",
      "5576            0             0             2            0             0  ...   \n",
      "5577            1             0             1            0             1  ...   \n",
      "5578            0             0             1            0             0  ...   \n",
      "5579            0             0             0            0             0  ...   \n",
      "\n",
      "      rs6587759_A  rs12032643_A  rs10788875_A  rs12071510_C  rs4359061_A  \\\n",
      "0               0             2             2             2            0   \n",
      "1               1             0             0             1            0   \n",
      "2               0             0             0             0            0   \n",
      "3               0             0             0             0            0   \n",
      "4               0             0             0             1            0   \n",
      "...           ...           ...           ...           ...          ...   \n",
      "5575            0             0             0             1            0   \n",
      "5576            0             0             0             1            0   \n",
      "5577            0             1             1             2            1   \n",
      "5578            0             0             0             0            0   \n",
      "5579            0             0             0             0            0   \n",
      "\n",
      "      rs12043282_G  rs6587761_A  rs7527472_A  rs12746903_G  rs12726733_A  \n",
      "0                0            0            0             0             0  \n",
      "1                0            0            0             0             0  \n",
      "2                0            0            0             0             0  \n",
      "3                0            0            0             0             0  \n",
      "4                0            0            0             0             0  \n",
      "...            ...          ...          ...           ...           ...  \n",
      "5575             0            0            0             0             0  \n",
      "5576             0            0            0             0             0  \n",
      "5577             1            0            1             1             0  \n",
      "5578             0            0            0             0             0  \n",
      "5579             1            1            0             0             0  \n",
      "\n",
      "[5580 rows x 72844 columns]\n",
      "Performing one-hot encoding...\n",
      "Encoded...\n"
     ]
    }
   ],
   "source": [
    "### Reading .pkl file\n",
    "num_chr = '1'\n",
    "pd_df = pd.read_pickle(f\"/mnt/wd/nsap/imp2/chr{num_chr}.pkl\")\n",
    "print('Original DF: ', pd_df, sep='\\n')\n",
    "\n",
    "## Saving 1st two columns\n",
    "classes = pd_df['PHENOTYPE']\n",
    "pd_df_out = pd_df[['IID','PHENOTYPE']].copy()\n",
    "pd_df.drop(['IID','PHENOTYPE'], axis=1, inplace=True)\n",
    "\n",
    "### One-Hot encode\n",
    "print('Performing one-hot encoding...')\n",
    "enc = OneHotEncoder(sparse=False, handle_unknown='error')\n",
    "enc.fit(pd_df)\n",
    "pd_df_enc = enc.transform(pd_df)\n",
    "pd_df_columns = enc.get_feature_names_out()\n",
    "pd_df_enc = pd.DataFrame(pd_df_enc, columns=pd_df_columns)\n",
    "print('Encoded...')\n",
    "\n",
    "pd_df_enc = pd.DataFrame(pd_df_enc, columns=pd_df_columns)\n",
    "# print(pd_df_enc)"
   ]
  },
  {
   "cell_type": "code",
   "execution_count": 5,
   "id": "97198ca5",
   "metadata": {},
   "outputs": [],
   "source": [
    "### Object to over-sample the minority class by picking samples at random with replacement. \n",
    "random_over = imb.over_sampling.RandomOverSampler(sampling_strategy=0.3\n",
    "                                                 ,random_state=seed)"
   ]
  },
  {
   "cell_type": "code",
   "execution_count": 27,
   "id": "78155c5f",
   "metadata": {},
   "outputs": [],
   "source": [
    "### NearMiss-1 selects the positive samples for which the average distance to the N\n",
    "### closest samples of the negative class is the smallest.\n",
    "undersample = NearMiss(sampling_strategy=0.5,\n",
    "                       version=near_miss_strat, \n",
    "                       n_neighbors=knn_)\n",
    "### near_miss_strat"
   ]
  },
  {
   "cell_type": "code",
   "execution_count": 14,
   "id": "f4469941",
   "metadata": {},
   "outputs": [
    {
     "name": "stdout",
     "output_type": "stream",
     "text": [
      "Splitting dataset...\n",
      "Original class counts in training: Counter({2: 3938, 1: 526})\n",
      "Original class counts in test: Counter({2: 990, 1: 126})\n"
     ]
    }
   ],
   "source": [
    "### Split training set from general_set\n",
    "print('Splitting dataset...')\n",
    "training_set, test_set, training_classes, test_classes = train_test_split(pd_df_enc\n",
    "                                                        ,classes\n",
    "                                                        ,test_size=0.2\n",
    "                                                        ,random_state = seed)\n",
    "print(f\"Original class counts in training: {Counter(training_classes)}\")\n",
    "print(f\"Original class counts in test: {Counter(test_classes)}\")"
   ]
  },
  {
   "cell_type": "code",
   "execution_count": 28,
   "id": "e92e4029",
   "metadata": {},
   "outputs": [
    {
     "name": "stdout",
     "output_type": "stream",
     "text": [
      "Performing NearMiss undersampling...\n"
     ]
    },
    {
     "name": "stderr",
     "output_type": "stream",
     "text": [
      "The number of the samples to be selected is larger than the number of samples available. The balancing ratio cannot be ensure and all samples will be returned.\n"
     ]
    },
    {
     "name": "stdout",
     "output_type": "stream",
     "text": [
      "[4212 4213 4214 ... 4977 4892 4200]\n",
      "1898\n",
      "1898\n"
     ]
    }
   ],
   "source": [
    "### Create 2 lists with 'IID' which are either selected via NearMiss or not\n",
    "print('Performing NearMiss undersampling...')\n",
    "# set_res, classes_res = undersample.fit_resample(training_set, training_classes) \n",
    "set_res, classes_res = undersample.fit_resample(pd_df_enc, classes) \n",
    "inx = undersample.sample_indices_\n",
    "print(inx)\n",
    "print(len(inx))\n",
    "print(len(set_res))\n",
    "\n"
   ]
  },
  {
   "cell_type": "code",
   "execution_count": 29,
   "id": "4781a5ee",
   "metadata": {},
   "outputs": [
    {
     "name": "stdout",
     "output_type": "stream",
     "text": [
      "1898\n"
     ]
    }
   ],
   "source": [
    "positive_list = pd_df_out['IID'].iloc[inx]\n",
    "print(len(positive_list))"
   ]
  },
  {
   "cell_type": "code",
   "execution_count": 30,
   "id": "8f95659b",
   "metadata": {},
   "outputs": [
    {
     "name": "stdout",
     "output_type": "stream",
     "text": [
      "Positive selected indexes:  4212    2000001500\n",
      "4213    2000001501\n",
      "4214    2000001503\n",
      "4215    2000001504\n",
      "4216    2000001505\n",
      "           ...    \n",
      "3495    2000000083\n",
      "4780    2300000351\n",
      "4977    2300000860\n",
      "4892    2300000614\n",
      "4200    2000001460\n",
      "Name: IID, Length: 1898, dtype: int64\n",
      "Negative selected indexes:  1        100000016\n",
      "3        100000140\n",
      "4        100000147\n",
      "5        100000158\n",
      "6        100000222\n",
      "           ...    \n",
      "5574    2909779221\n",
      "5575    2909813962\n",
      "5577    2909921261\n",
      "5578    2909922663\n",
      "5579    2909962868\n",
      "Name: IID, Length: 3682, dtype: int64\n"
     ]
    }
   ],
   "source": [
    "path = '/mnt/wd/nsap/Classifiers/RandomForest_dbgap/'\n",
    "positive_list = pd_df_out['IID'].iloc[inx]\n",
    "print('Positive selected indexes: ', positive_list)\n",
    "positive_list.to_csv(f\"{path}positiveSelected_NearMiss{near_miss_strat}_{knn_}.csv\", \n",
    "                     sep='\\n', index=False)\n",
    "negative_list = pd_df_out['IID'].drop(index=inx)\n",
    "print('Negative selected indexes: ', negative_list)\n",
    "negative_list.to_csv(f\"{path}negativeSelected_NearMiss{near_miss_strat}_{knn_}.csv\", \n",
    "                     sep='\\n', index=False)"
   ]
  },
  {
   "cell_type": "code",
   "execution_count": 32,
   "id": "f1c6dc7d",
   "metadata": {},
   "outputs": [
    {
     "name": "stdout",
     "output_type": "stream",
     "text": [
      "4212    2000001500\n",
      "4213    2000001501\n",
      "4214    2000001503\n",
      "4215    2000001504\n",
      "4216    2000001505\n",
      "           ...    \n",
      "5237    2300005910\n",
      "5238    2300005911\n",
      "5239    2300005935\n",
      "5240    2300005961\n",
      "5241    2300006051\n",
      "Name: IID, Length: 652, dtype: int64\n"
     ]
    }
   ],
   "source": [
    "### List for either of 1 PHENOTYPEs\n",
    "control_list = pd_df_out[pd_df_out.PHENOTYPE != 2]['IID']\n",
    "print(control_list)"
   ]
  },
  {
   "cell_type": "code",
   "execution_count": null,
   "id": "9eb82726",
   "metadata": {},
   "outputs": [],
   "source": [
    "### Oversampling technique SMOTEN (Synthetic Minority Over-sampling Technique for Nominal)\n",
    "print(f\"Original class counts: {Counter(classes)}\")\n",
    "smoten_over = imb.over_sampling.SMOTEN(sampling_strategy=1\n",
    "                                       ,random_state=seed\n",
    "                                       ,n_jobs=-1)"
   ]
  },
  {
   "cell_type": "code",
   "execution_count": 6,
   "id": "a72dbd71",
   "metadata": {},
   "outputs": [],
   "source": [
    "### RandomForestClassifier\n",
    "clf = RandomForestClassifier(n_estimators=100\n",
    "                            ,max_features=None\n",
    "                            ,criterion='gini'\n",
    "                            ,bootstrap=True\n",
    "                            ,oob_score=False\n",
    "                            ,random_state=seed\n",
    "                            ,class_weight='balanced_subsample'\n",
    "                            ,n_jobs=-1)"
   ]
  },
  {
   "cell_type": "code",
   "execution_count": 24,
   "id": "8dd885e6",
   "metadata": {},
   "outputs": [],
   "source": [
    "### Define imblearn.pipeline\n",
    "steps = [('under', undersample), ('model', clf)]\n",
    "mem = Memory(location='./cachedir')\n",
    "pipeline = Pipeline(steps=steps, memory=mem)\n",
    "#  ('under', undersample),('over', random_over), "
   ]
  },
  {
   "cell_type": "code",
   "execution_count": 17,
   "id": "bff4cc56",
   "metadata": {},
   "outputs": [],
   "source": [
    "### Repeated stratified k-fold cross-validation\n",
    "cv = RepeatedStratifiedKFold(n_splits=5, n_repeats=1, random_state=seed)"
   ]
  },
  {
   "cell_type": "code",
   "execution_count": null,
   "id": "d2e1a7e3",
   "metadata": {},
   "outputs": [],
   "source": [
    "### NearMiss-1 selects the positive samples for which the average distance to the N\n",
    "### closest samples of the negative class is the smallest.\n",
    "undersample = NearMiss(sampling_strategy=0.2,\n",
    "                       version=near_miss_strat, n_neighbors=3)\n",
    "### Oversampling technique SMOTEN (Synthetic Minority Over-sampling Technique for Nominal)\n",
    "smoten_over = imb.over_sampling.SMOTEN(sampling_strategy=0.5\n",
    "                                       ,random_state=seed\n",
    "                                       ,n_jobs=-1)\n",
    "print(f\"Original class counts: {Counter(training_classes)}\")\n",
    "print('Performing NearMiss undersampling...')\n",
    "set_res, classes_res = undersample.fit_resample(training_set, training_classes) \n",
    "print(f\"Original class counts: {Counter(classes_res)}\")\n",
    "print('Performing SMOTEN oversampling...')\n",
    "set_res, classes_res = smoten_over.fit_resample(set_res, classes_res)\n",
    "print(f\"Original class counts: {Counter(classes_res)}\")"
   ]
  },
  {
   "cell_type": "code",
   "execution_count": 26,
   "id": "c4cbb174",
   "metadata": {},
   "outputs": [],
   "source": [
    "### Scoring\n",
    "cv_scores = cross_validate(pipeline\n",
    "                          ,training_set\n",
    "                          ,training_classes\n",
    "                          ,scoring=('accuracy'\n",
    "                                   ,'precision'\n",
    "                                   ,'precision_macro'\n",
    "                                   ,'precision_weighted'\n",
    "                                   ,'recall'\n",
    "                                   ,'recall_macro'\n",
    "                                   ,'recall_weighted'\n",
    "                                   ,'f1'\n",
    "                                   ,'f1_macro'\n",
    "                                   ,'f1_weighted')\n",
    "                          ,cv=5\n",
    "                          ,return_estimator=True\n",
    "                          ,n_jobs=15)"
   ]
  },
  {
   "cell_type": "code",
   "execution_count": 12,
   "id": "a414db9b",
   "metadata": {},
   "outputs": [
    {
     "name": "stdout",
     "output_type": "stream",
     "text": [
      "{'fit_time': array([3127.1173315 , 3138.40546107, 3500.92359829, 3548.95322561,\n",
      "       3559.84075379]), 'score_time': array([13.19507718,  7.75673676,  5.0032239 ,  2.84196115,  2.48560429]), 'estimator': [Pipeline(memory=Memory(location=./cachedir/joblib),\n",
      "         steps=[('over',\n",
      "                 RandomOverSampler(random_state=100, sampling_strategy=0.3)),\n",
      "                ('model',\n",
      "                 RandomForestClassifier(class_weight='balanced_subsample',\n",
      "                                        max_features=None, n_jobs=-1,\n",
      "                                        random_state=100))]), Pipeline(memory=Memory(location=./cachedir/joblib),\n",
      "         steps=[('over',\n",
      "                 RandomOverSampler(random_state=100, sampling_strategy=0.3)),\n",
      "                ('model',\n",
      "                 RandomForestClassifier(class_weight='balanced_subsample',\n",
      "                                        max_features=None, n_jobs=-1,\n",
      "                                        random_state=100))]), Pipeline(memory=Memory(location=./cachedir/joblib),\n",
      "         steps=[('over',\n",
      "                 RandomOverSampler(random_state=100, sampling_strategy=0.3)),\n",
      "                ('model',\n",
      "                 RandomForestClassifier(class_weight='balanced_subsample',\n",
      "                                        max_features=None, n_jobs=-1,\n",
      "                                        random_state=100))]), Pipeline(memory=Memory(location=./cachedir/joblib),\n",
      "         steps=[('over',\n",
      "                 RandomOverSampler(random_state=100, sampling_strategy=0.3)),\n",
      "                ('model',\n",
      "                 RandomForestClassifier(class_weight='balanced_subsample',\n",
      "                                        max_features=None, n_jobs=-1,\n",
      "                                        random_state=100))]), Pipeline(memory=Memory(location=./cachedir/joblib),\n",
      "         steps=[('over',\n",
      "                 RandomOverSampler(random_state=100, sampling_strategy=0.3)),\n",
      "                ('model',\n",
      "                 RandomForestClassifier(class_weight='balanced_subsample',\n",
      "                                        max_features=None, n_jobs=-1,\n",
      "                                        random_state=100))])], 'test_accuracy': array([0.88241881, 0.88241881, 0.88129899, 0.88129899, 0.882287  ]), 'test_precision': array([0., 0., 0., 0., 0.]), 'test_precision_macro': array([0.44120941, 0.44120941, 0.4406495 , 0.4406495 , 0.4411435 ]), 'test_precision_weighted': array([0.77866296, 0.77866296, 0.77668791, 0.77668791, 0.77843034]), 'test_recall': array([0., 0., 0., 0., 0.]), 'test_recall_macro': array([0.5, 0.5, 0.5, 0.5, 0.5]), 'test_recall_weighted': array([0.88241881, 0.88241881, 0.88129899, 0.88129899, 0.882287  ]), 'test_f1': array([0., 0., 0., 0., 0.]), 'test_f1_macro': array([0.46876859, 0.46876859, 0.46845238, 0.46845238, 0.46873139]), 'test_f1_weighted': array([0.82730045, 0.82730045, 0.82569322, 0.82569322, 0.82711122])}\n"
     ]
    }
   ],
   "source": [
    "print(cv_scores)"
   ]
  },
  {
   "cell_type": "code",
   "execution_count": 19,
   "id": "127c14df",
   "metadata": {},
   "outputs": [
    {
     "name": "stdout",
     "output_type": "stream",
     "text": [
      "Precision score is: [0.         0.88789238]\n",
      "Recall score is: [0.         0.99899092]\n",
      "F1 score is: [0.         0.94017094]\n"
     ]
    }
   ],
   "source": [
    "test_pred_classes = cv_scores['estimator'][1]['model'].predict(test_set)\n",
    "p_score = precision_score(test_classes, test_pred_classes, average=None)\n",
    "print(f\"Precision score is: {p_score}\")\n",
    "r_score = recall_score(test_classes, test_pred_classes, average=None)\n",
    "print(f\"Recall score is: {r_score}\")\n",
    "f_score = f1_score(test_classes, test_pred_classes, average=None)\n",
    "print(f\"F1 score is: {f_score}\")"
   ]
  },
  {
   "cell_type": "code",
   "execution_count": 27,
   "id": "5330b759",
   "metadata": {},
   "outputs": [
    {
     "data": {
      "image/png": "[encoded data removed]",
      "text/plain": [
       "<Figure size 640x480 with 1 Axes>"
      ]
     },
     "metadata": {},
     "output_type": "display_data"
    }
   ],
   "source": [
    "labels = [\"1st Fold\", \"2nd Fold\", \"3rd Fold\", \"4th Fold\", \"5th Fold\"]\n",
    "X_axis = np.arange(len(labels))\n",
    "ax = plt.gca()\n",
    "plt.plot(cv_scores['test_accuracy'], color='red', label='Accuracy')\n",
    "plt.plot(cv_scores['test_precision_macro'], color='blue', label='Precision Macro')\n",
    "plt.plot(cv_scores['test_recall_macro'], color='cyan', label='Recall Macro')\n",
    "plt.plot(cv_scores['test_f1_macro'], color='green', label='F1 Macro')\n",
    "\n",
    "plt.xticks(X_axis, labels)\n",
    "plt.xlabel(f\"Stratified k-fold with undersampling via NearMiss-{near_miss_strat}\", fontsize=14)\n",
    "plt.ylabel('Scores', fontsize=14)\n",
    "plt.legend()\n",
    "plt.grid(True)\n",
    "plt.show()"
   ]
  },
  {
   "cell_type": "code",
   "execution_count": null,
   "id": "bb8c742b",
   "metadata": {},
   "outputs": [],
   "source": [
    "import shap\n",
    "explainer = shap.TreeExplainer(cv_scores['estimator'][1]['model'])\n",
    "shap_values = explainer.shap_values(test_set)\n",
    "#shap_values of 1 for positive label\n",
    "shap.summary_plot(shap_values[1], test_set)"
   ]
  },
  {
   "cell_type": "code",
   "execution_count": null,
   "id": "daf37ec0",
   "metadata": {},
   "outputs": [],
   "source": [
    "test_pred = cv_scores['estimator'][1].predict(test_set)\n",
    "print(Counter(test_classes))\n",
    "print(Counter(test_pred))"
   ]
  },
  {
   "cell_type": "code",
   "execution_count": null,
   "id": "89dc210c",
   "metadata": {},
   "outputs": [],
   "source": [
    "## Accuracy\n",
    "print('Accuracy of the model is: ', cv_scores['test_accuracy'])\n",
    "\n",
    "## Precision\n",
    "print(\"Macro precision score of the model: \", cv_scores['test_precision_macro'])\n",
    "print(\"Micro precision score of the model: \", cv_scores['test_precision_micro'])\n",
    "print(\"Weighted precision score of the model: \", cv_scores['test_precision_weighted'])\n",
    "\n",
    "## Recall\n",
    "print(\"Macro recall score of the model: \", cv_scores['test_recall_macro'])\n",
    "print(\"Micro recall score of the model: \", cv_scores['test_recall_micro'])\n",
    "print(\"Weighted recall score of the model: \", cv_scores['test_recall_weighted'])\n",
    "\n",
    "## f1-score\n",
    "print(\"Macro F1-score of the model: \", cv_scores['test_f1_macro'])\n",
    "print(\"Micro F1-score of the model: \", cv_scores['test_f1_micro'])\n",
    "print(\"Weighted F1-score of the model: \", cv_scores['test_f1_weighted'])"
   ]
  },
  {
   "cell_type": "code",
   "execution_count": null,
   "id": "3bef1f4e",
   "metadata": {},
   "outputs": [],
   "source": [
    "## Precision\n",
    "print(\"Macro precision score of the model: \", cv_scores['test_precision_macro'])\n",
    "print(\"Micro precision score of the model: \", cv_scores['test_precision_micro'])\n",
    "print(\"Weighted precision score of the model: \", cv_scores['test_precision_weighted'])\n",
    "\n"
   ]
  },
  {
   "cell_type": "code",
   "execution_count": null,
   "id": "0acb1286",
   "metadata": {},
   "outputs": [],
   "source": [
    "## Recall\n",
    "print(\"Macro recall score of the model: \", cv_scores['test_recall_macro'])\n",
    "print(\"Micro recall score of the model: \", cv_scores['test_recall_micro'])\n",
    "print(\"Weighted recall score of the model: \", cv_scores['test_recall_weighted'])\n",
    "\n"
   ]
  },
  {
   "cell_type": "code",
   "execution_count": null,
   "id": "5ce73265",
   "metadata": {},
   "outputs": [],
   "source": [
    "## f1-score\n",
    "print(\"Macro F1-score of the model: \", cv_scores['test_f1_macro'])\n",
    "print(\"Micro F1-score of the model: \", cv_scores['test_f1_micro'])\n",
    "print(\"Weighted F1-score of the model: \", cv_scores['test_f1_weighted'])"
   ]
  },
  {
   "cell_type": "code",
   "execution_count": null,
   "id": "45f33ff6",
   "metadata": {},
   "outputs": [],
   "source": [
    "clf = clf.fit(training_set, training_classes)\n",
    "test_pred_classes = clf.predict(test_set)\n",
    "print(Counter(test_pred_classes))"
   ]
  },
  {
   "cell_type": "code",
   "execution_count": null,
   "id": "939176c9",
   "metadata": {},
   "outputs": [],
   "source": [
    "### Split training set from general_set\n",
    "print('Splitting dataset...')\n",
    "training_set, test_set, training_classes, test_classes = train_test_split(pd_df_enc\n",
    "                                                        ,classes\n",
    "                                                        ,test_size=0.333\n",
    "                                                        ,random_state = seed)"
   ]
  },
  {
   "cell_type": "code",
   "execution_count": null,
   "id": "97e7ab3f",
   "metadata": {},
   "outputs": [],
   "source": [
    "test_pred = cv_scores['estimator'][0].predict(test_set)\n"
   ]
  },
  {
   "cell_type": "code",
   "execution_count": null,
   "id": "f2904fa2",
   "metadata": {},
   "outputs": [],
   "source": [
    "### Scoring\n",
    "cv_scores = cross_validate(pipeline\n",
    "                          ,pd_df_enc\n",
    "                          ,classes\n",
    "                          ,scoring=('accuracy'\n",
    "                                   ,'precision_macro'\n",
    "                                   ,'precision_micro'\n",
    "                                   ,'precision_weighted'\n",
    "                                   ,'recall_macro'\n",
    "                                   ,'recall_micro'\n",
    "                                   ,'recall_weighted'\n",
    "                                   ,'f1_macro'\n",
    "                                   ,'f1_micro'\n",
    "                                   ,'f1_weighted')\n",
    "                          ,cv=cv\n",
    "                          ,return_estimator=True\n",
    "                          ,n_jobs=12)"
   ]
  },
  {
   "cell_type": "code",
   "execution_count": null,
   "id": "5087f969",
   "metadata": {},
   "outputs": [],
   "source": [
    "print(cv_scores['estimator'][0])"
   ]
  },
  {
   "cell_type": "code",
   "execution_count": null,
   "id": "b7df6657",
   "metadata": {},
   "outputs": [],
   "source": [
    "test_pred = cv_scores['estimator'][1].predict(pd_df_enc)\n",
    "print(Counter(test_pred))"
   ]
  },
  {
   "cell_type": "code",
   "execution_count": null,
   "id": "52f1f9ce",
   "metadata": {},
   "outputs": [],
   "source": [
    "print(Counter(classes))"
   ]
  },
  {
   "cell_type": "code",
   "execution_count": null,
   "id": "d42b0118",
   "metadata": {},
   "outputs": [],
   "source": [
    "test_pred = cv_scores['estimator'][2].predict(pd_df_enc)\n",
    "print(Counter(test_pred))"
   ]
  },
  {
   "cell_type": "code",
   "execution_count": null,
   "id": "5ccd015b",
   "metadata": {},
   "outputs": [],
   "source": [
    "test_pred = cv_scores['estimator'][3].predict(pd_df_enc)\n",
    "print(Counter(test_pred))"
   ]
  },
  {
   "cell_type": "code",
   "execution_count": null,
   "id": "21d1588e",
   "metadata": {},
   "outputs": [],
   "source": [
    "labels = [\"1st Fold\", \"2nd Fold\", \"3rd Fold\", \"4th Fold\", \"5th Fold\"]\n",
    "X_axis = np.arange(len(labels))\n",
    "ax = plt.gca()\n",
    "plt.plot(cv_scores['test_accuracy'], color='red', label='Accuracy')\n",
    "plt.plot(cv_scores['test_precision_macro'], color='blue', label='Precision Macro')\n",
    "plt.plot(cv_scores['test_recall_macro'], color='cyan', label='Recall Macro')\n",
    "plt.plot(cv_scores['test_f1_macro'], color='green', label='F1 Macro')\n",
    "\n",
    "plt.xticks(X_axis, labels)\n",
    "plt.xlabel('Stratified k-fold with undersampling via NearMiss-1', fontsize=14)\n",
    "plt.ylabel('Scores', fontsize=14)\n",
    "plt.legend()\n",
    "plt.grid(True)\n",
    "plt.show()"
   ]
  },
  {
   "cell_type": "code",
   "execution_count": null,
   "id": "37d1e902",
   "metadata": {},
   "outputs": [],
   "source": [
    "labels = [\"1st Fold\", \"2nd Fold\", \"3rd Fold\", \"4th Fold\", \"5th Fold\"]\n",
    "X_axis = np.arange(len(labels))\n",
    "plt.plot(cv_scores['test_precision_macro'], color='red', label='Precision Macro')\n",
    "# plt.plot(cv_scores['test_precision_weighted'], color='blue', label='Precision Weighted')\n",
    "plt.xticks(X_axis, labels)\n",
    "plt.xlabel('Stratified k-fold with undersampling via NearMiss-1', fontsize=14)\n",
    "plt.ylabel('Precision', fontsize=14)\n",
    "plt.legend()\n",
    "plt.grid(True)\n",
    "plt.show()"
   ]
  },
  {
   "cell_type": "code",
   "execution_count": null,
   "id": "5dc32bd8",
   "metadata": {},
   "outputs": [],
   "source": [
    "labels = [\"1st Fold\", \"2nd Fold\", \"3rd Fold\", \"4th Fold\", \"5th Fold\"]\n",
    "X_axis = np.arange(len(labels))\n",
    "plt.plot(cv_scores['test_recall_macro'], color='red', label='Recall Macro')\n",
    "# plt.plot(cv_scores['test_recall_micro'], color='blue', label='Recall Micro')\n",
    "# plt.plot(cv_scores['test_recall_weighted'], color='cyan', label='Recall Weighted')\n",
    "plt.xticks(X_axis, labels)\n",
    "plt.xlabel('Stratified k-fold with undersampling via NearMiss-1', fontsize=14)\n",
    "plt.ylabel('Recall', fontsize=14)\n",
    "plt.legend()\n",
    "plt.grid(True)\n",
    "plt.show()"
   ]
  },
  {
   "cell_type": "code",
   "execution_count": null,
   "id": "f33bd2b8",
   "metadata": {},
   "outputs": [],
   "source": [
    "labels = [\"1st Fold\", \"2nd Fold\", \"3rd Fold\", \"4th Fold\", \"5th Fold\"]\n",
    "X_axis = np.arange(len(labels))\n",
    "plt.plot(cv_scores['test_f1_macro'], color='red', label='F1 Macro')\n",
    "plt.plot(cv_scores['test_f1_micro'], color='blue', label='F1 Micro')\n",
    "plt.plot(cv_scores['test_f1_weighted'], color='cyan', label='F1 Weighted')\n",
    "plt.xticks(X_axis, labels)\n",
    "plt.xlabel('Stratified k-fold with undersampling via NearMiss-1', fontsize=14)\n",
    "plt.ylabel('F1-score', fontsize=14)\n",
    "plt.legend()\n",
    "plt.grid(True)\n",
    "plt.show()"
   ]
  },
  {
   "cell_type": "code",
   "execution_count": null,
   "id": "bbe6c7ef",
   "metadata": {},
   "outputs": [],
   "source": [
    "test_pred = cv_scores['estimator'][3].predict(pd_df_enc)\n",
    "print(Counter(test_pred))"
   ]
  },
  {
   "cell_type": "code",
   "execution_count": null,
   "id": "09c7b71a",
   "metadata": {},
   "outputs": [],
   "source": [
    "labels = [\"1st Fold\", \"2nd Fold\", \"3rd Fold\", \"4th Fold\", \"5th Fold\"]\n",
    "X_axis = np.arange(len(labels))\n",
    "ax = plt.gca()\n",
    "plt.plot(cv_scores['test_accuracy'], color='red', label='Accuracy')\n",
    "plt.xticks(X_axis, labels)\n",
    "plt.xlabel('Stratified k-fold with undersampling via NearMiss-2', fontsize=14)\n",
    "plt.ylabel('Accuracy', fontsize=14)\n",
    "plt.legend()\n",
    "plt.grid(True)\n",
    "plt.show()"
   ]
  },
  {
   "cell_type": "code",
   "execution_count": null,
   "id": "dc015709",
   "metadata": {},
   "outputs": [],
   "source": [
    "labels = [\"1st Fold\", \"2nd Fold\", \"3rd Fold\", \"4th Fold\", \"5th Fold\"]\n",
    "X_axis = np.arange(len(labels))\n",
    "plt.plot(cv_scores['test_precision_macro'], color='red', label='Precision Macro')\n",
    "plt.plot(cv_scores['test_precision_micro'], color='blue', label='Precision Micro')\n",
    "plt.plot(cv_scores['test_precision_weighted'], color='cyan', label='Precision Weighted')\n",
    "plt.xticks(X_axis, labels)\n",
    "plt.xlabel('Stratified k-fold with undersampling via NearMiss-2', fontsize=14)\n",
    "plt.ylabel('Precision', fontsize=14)\n",
    "plt.legend()\n",
    "plt.grid(True)\n",
    "plt.show()"
   ]
  },
  {
   "cell_type": "code",
   "execution_count": null,
   "id": "04b16c76",
   "metadata": {},
   "outputs": [],
   "source": [
    "labels = [\"1st Fold\", \"2nd Fold\", \"3rd Fold\", \"4th Fold\", \"5th Fold\"]\n",
    "X_axis = np.arange(len(labels))\n",
    "plt.plot(cv_scores['test_recall_macro'], color='red', label='Recall Macro')\n",
    "plt.plot(cv_scores['test_recall_micro'], color='blue', label='Recall Micro')\n",
    "plt.plot(cv_scores['test_recall_weighted'], color='cyan', label='Recall Weighted')\n",
    "plt.xticks(X_axis, labels)\n",
    "plt.xlabel('Stratified k-fold with undersampling via NearMiss-2', fontsize=14)\n",
    "plt.ylabel('Recall', fontsize=14)\n",
    "plt.legend()\n",
    "plt.grid(True)\n",
    "plt.show()"
   ]
  },
  {
   "cell_type": "code",
   "execution_count": null,
   "id": "a597489a",
   "metadata": {},
   "outputs": [],
   "source": [
    "labels = [\"1st Fold\", \"2nd Fold\", \"3rd Fold\", \"4th Fold\", \"5th Fold\"]\n",
    "X_axis = np.arange(len(labels))\n",
    "plt.plot(cv_scores['test_f1_macro'], color='red', label='F1 Macro')\n",
    "plt.plot(cv_scores['test_f1_micro'], color='blue', label='F1 Micro')\n",
    "plt.plot(cv_scores['test_f1_weighted'], color='cyan', label='F1 Weighted')\n",
    "plt.xticks(X_axis, labels)\n",
    "plt.xlabel('Stratified k-fold with undersampling via NearMiss-2', fontsize=14)\n",
    "plt.ylabel('F1-score', fontsize=14)\n",
    "plt.legend()\n",
    "plt.grid(True)\n",
    "plt.show()"
   ]
  },
  {
   "cell_type": "code",
   "execution_count": null,
   "id": "0df8f644",
   "metadata": {},
   "outputs": [],
   "source": [
    "labels = [\"1st Fold\", \"2nd Fold\", \"3rd Fold\", \"4th Fold\", \"5th Fold\"]\n",
    "X_axis = np.arange(len(labels))\n",
    "ax = plt.gca()\n",
    "plt.plot(cv_scores['test_accuracy'], color='red', label='Accuracy')\n",
    "plt.xticks(X_axis, labels)\n",
    "plt.xlabel('Stratified k-fold with undersampling via NearMiss-3', fontsize=14)\n",
    "plt.ylabel('Accuracy', fontsize=14)\n",
    "plt.legend()\n",
    "plt.grid(True)\n",
    "plt.show()"
   ]
  },
  {
   "cell_type": "code",
   "execution_count": null,
   "id": "6b51cb0e",
   "metadata": {},
   "outputs": [],
   "source": [
    "labels = [\"1st Fold\", \"2nd Fold\", \"3rd Fold\", \"4th Fold\", \"5th Fold\"]\n",
    "X_axis = np.arange(len(labels))\n",
    "plt.plot(cv_scores['test_precision_macro'], color='red', label='Precision Macro')\n",
    "plt.plot(cv_scores['test_precision_micro'], color='blue', label='Precision Micro')\n",
    "plt.plot(cv_scores['test_precision_weighted'], color='cyan', label='Precision Weighted')\n",
    "plt.xticks(X_axis, labels)\n",
    "plt.xlabel('Stratified k-fold with undersampling via NearMiss-3', fontsize=14)\n",
    "plt.ylabel('Precision', fontsize=14)\n",
    "plt.legend()\n",
    "plt.grid(True)\n",
    "plt.show()"
   ]
  },
  {
   "cell_type": "code",
   "execution_count": null,
   "id": "e765ad2b",
   "metadata": {},
   "outputs": [],
   "source": [
    "labels = [\"1st Fold\", \"2nd Fold\", \"3rd Fold\", \"4th Fold\", \"5th Fold\"]\n",
    "X_axis = np.arange(len(labels))\n",
    "plt.plot(cv_scores['test_recall_macro'], color='red', label='Recall Macro')\n",
    "plt.plot(cv_scores['test_recall_micro'], color='blue', label='Recall Micro')\n",
    "plt.plot(cv_scores['test_recall_weighted'], color='cyan', label='Recall Weighted')\n",
    "plt.xticks(X_axis, labels)\n",
    "plt.xlabel('Stratified k-fold with undersampling via NearMiss-3', fontsize=14)\n",
    "plt.ylabel('Recall', fontsize=14)\n",
    "plt.legend()\n",
    "plt.grid(True)\n",
    "plt.show()"
   ]
  },
  {
   "cell_type": "code",
   "execution_count": null,
   "id": "e86853c1",
   "metadata": {},
   "outputs": [],
   "source": [
    "labels = [\"1st Fold\", \"2nd Fold\", \"3rd Fold\", \"4th Fold\", \"5th Fold\"]\n",
    "X_axis = np.arange(len(labels))\n",
    "plt.plot(cv_scores['test_f1_macro'], color='red', label='F1 Macro')\n",
    "plt.plot(cv_scores['test_f1_micro'], color='blue', label='F1 Micro')\n",
    "plt.plot(cv_scores['test_f1_weighted'], color='cyan', label='F1 Weighted')\n",
    "plt.xticks(X_axis, labels)\n",
    "plt.xlabel('Stratified k-fold with undersampling via NearMiss-3', fontsize=14)\n",
    "plt.ylabel('F1-score', fontsize=14)\n",
    "plt.legend()\n",
    "plt.grid(True)\n",
    "plt.show()"
   ]
  },
  {
   "cell_type": "code",
   "execution_count": null,
   "id": "f4a26a1a",
   "metadata": {},
   "outputs": [],
   "source": [
    "## Accuracy\n",
    "print('Accuracy of the model is: ', cv_scores['test_accuracy'], '\\n')\n",
    "\n",
    "## Precision\n",
    "print(\"Macro precision score of the model: \", cv_scores['test_precision_macro'])\n",
    "print(\"Micro precision score of the model: \", cv_scores['test_precision_micro'])\n",
    "print(\"Weighted precision score of the model: \", cv_scores['test_precision_weighted'], '\\n')\n",
    "\n",
    "## Recall\n",
    "print(\"Macro recall score of the model: \", cv_scores['test_recall_macro'])\n",
    "print(\"Micro recall score of the model: \", cv_scores['test_recall_micro'])\n",
    "print(\"Weighted recall score of the model: \", cv_scores['test_recall_weighted'], '\\n')\n",
    "\n",
    "## f1-score\n",
    "print(\"Macro F1-score of the model: \", cv_scores['test_f1_macro'])\n",
    "print(\"Micro F1-score of the model: \", cv_scores['test_f1_micro'])\n",
    "print(\"Weighted F1-score of the model: \", cv_scores['test_f1_weighted'])"
   ]
  },
  {
   "cell_type": "code",
   "execution_count": null,
   "id": "e45f01f0",
   "metadata": {},
   "outputs": [],
   "source": [
    "### Oversampling technique SMOTEN (Synthetic Minority Over-sampling Technique for Nominal)\n",
    "print(f\"Original class counts: {Counter(classes)}\")\n",
    "smoten_over = imb.over_sampling.SMOTEN(sampling_strategy=0.5\n",
    "                                       ,random_state=seed\n",
    "                                       ,n_jobs=20)\n",
    "# pd_df_smoten, classes_smoten = smoten_over.fit_resample(pd_df_enc, classes)\n",
    "# print(f\"Class counts after resampling {Counter(pd_df_smoten)}\")\n",
    "# print('pd_df_res: ', pd_df_smoten, sep='\\n')"
   ]
  },
  {
   "cell_type": "code",
   "execution_count": null,
   "id": "e517cd19",
   "metadata": {},
   "outputs": [],
   "source": [
    "### Define imblearn.pipeline\n",
    "steps_over = [('over', smoten_over), ('model', clf)]\n",
    "mem = Memory(location='./cachedir')\n",
    "pipeline_over = Pipeline(steps=steps_over, memory=mem)\n"
   ]
  },
  {
   "cell_type": "code",
   "execution_count": null,
   "id": "074b5d8c",
   "metadata": {},
   "outputs": [],
   "source": [
    "### Split training set from general_set\n",
    "print('Splitting dataset...')\n",
    "training_set, test_set, training_classes, test_classes = train_test_split(pd_df_enc\n",
    "                                                        ,classes\n",
    "                                                        ,test_size=0.2\n",
    "                                                        ,random_state = seed)\n",
    "print(Counter(test_classes))"
   ]
  },
  {
   "cell_type": "code",
   "execution_count": null,
   "id": "0128594b",
   "metadata": {},
   "outputs": [],
   "source": [
    "clf = clf.fit(training_set, training_classes)\n",
    "test_pred_classes = clf.predict(test_set)\n",
    "f1_score = f1_score(test_classes, test_pred_classes, average=None)\n",
    "print(f1_score)"
   ]
  },
  {
   "cell_type": "code",
   "execution_count": null,
   "id": "c8a684a6",
   "metadata": {},
   "outputs": [],
   "source": [
    "pd_df_smoten, classes_smoten = smoten_over.fit_resample(training_set, training_classes)\n",
    "print(f\"Class counts after resampling {Counter(pd_df_smoten)}\")"
   ]
  },
  {
   "cell_type": "code",
   "execution_count": null,
   "id": "a97b85fd",
   "metadata": {},
   "outputs": [],
   "source": [
    "cv_scores_over = cross_validate(clf\n",
    "                              ,pd_df_smoten\n",
    "                              ,classes_smoten\n",
    "                              ,scoring=('accuracy'\n",
    "                                       ,'precision'\n",
    "                                       ,'precision_macro'\n",
    "                                       ,'precision_weighted'\n",
    "                                       ,'recall'\n",
    "                                       ,'recall_macro'\n",
    "                                       ,'recall_weighted'\n",
    "                                       ,'f1'\n",
    "                                       ,'f1_macro'\n",
    "                                       ,'f1_weighted')\n",
    "                              ,cv=5\n",
    "                              ,return_estimator=True\n",
    "                              ,n_jobs=12)"
   ]
  },
  {
   "cell_type": "code",
   "execution_count": null,
   "id": "336f95d0",
   "metadata": {},
   "outputs": [],
   "source": [
    "import shap "
   ]
  },
  {
   "cell_type": "code",
   "execution_count": null,
   "id": "7d395eeb",
   "metadata": {},
   "outputs": [],
   "source": [
    "explainer = shap.TreeExplainer(cv_scores['estimator'][0]['model'])"
   ]
  },
  {
   "cell_type": "code",
   "execution_count": null,
   "id": "acf2d6d7",
   "metadata": {},
   "outputs": [],
   "source": [
    "shap_values = explainer.shap_values(test_pred)\n",
    "shap.initjs()\n",
    "shap.force_plot(explainer.expected_value[1], shap_values[1], choosen_instance)"
   ]
  },
  {
   "cell_type": "code",
   "execution_count": null,
   "id": "66520cbb",
   "metadata": {},
   "outputs": [],
   "source": [
    "### Scoring feature importances\n",
    "feature_names = test_set.columns\n",
    "print(feature_names)\n"
   ]
  },
  {
   "cell_type": "code",
   "execution_count": null,
   "id": "f26efdbc",
   "metadata": {},
   "outputs": [],
   "source": []
  }
 ],
 "metadata": {
  "kernelspec": {
   "display_name": "Python 3 (ipykernel)",
   "language": "python",
   "name": "python3"
  },
  "language_info": {
   "codemirror_mode": {
    "name": "ipython",
    "version": 3
   },
   "file_extension": ".py",
   "mimetype": "text/x-python",
   "name": "python",
   "nbconvert_exporter": "python",
   "pygments_lexer": "ipython3",
   "version": "3.8.10"
  }
 },
 "nbformat": 4,
 "nbformat_minor": 5
}
